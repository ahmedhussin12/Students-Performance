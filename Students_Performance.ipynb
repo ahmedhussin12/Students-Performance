{
  "nbformat": 4,
  "nbformat_minor": 0,
  "metadata": {
    "colab": {
      "name": "Students Performance.ipynb",
      "provenance": [],
      "authorship_tag": "ABX9TyM/z7JQvj2C2ukHLwyReOEY",
      "include_colab_link": true
    },
    "kernelspec": {
      "name": "python3",
      "display_name": "Python 3"
    },
    "language_info": {
      "name": "python"
    }
  },
  "cells": [
    {
      "cell_type": "markdown",
      "metadata": {
        "id": "view-in-github",
        "colab_type": "text"
      },
      "source": [
        "<a href=\"https://colab.research.google.com/github/ahmedhussin12/Students-Performance/blob/main/Students_Performance.ipynb\" target=\"_parent\"><img src=\"https://colab.research.google.com/assets/colab-badge.svg\" alt=\"Open In Colab\"/></a>"
      ]
    },
    {
      "cell_type": "markdown",
      "metadata": {
        "id": "_7RY635s861H"
      },
      "source": [
        "Trying to explore the relation between scores students get and some information about them such as gender,parental level of education, what they eat etc.\n",
        "This dataset was downloaded from **kaggle** \n",
        "It has 1000 rows and 8 columns.\n",
        "Each row represent student . "
      ]
    },
    {
      "cell_type": "markdown",
      "metadata": {
        "id": "qVXLNGZO9f2P"
      },
      "source": [
        "First thing to do is to import the proper libraries. "
      ]
    },
    {
      "cell_type": "code",
      "metadata": {
        "id": "Na4QzwXSggA_"
      },
      "source": [
        "import numpy as np\n",
        "import pandas as pd\n",
        "import matplotlib.pyplot as plt\n",
        "import seaborn as sns\n",
        "from sklearn import preprocessing"
      ],
      "execution_count": 14,
      "outputs": []
    },
    {
      "cell_type": "markdown",
      "metadata": {
        "id": "HXEKLAXr-KYh"
      },
      "source": [
        "loading data using **pandas**..."
      ]
    },
    {
      "cell_type": "code",
      "metadata": {
        "id": "HV5MWBBhylBB"
      },
      "source": [
        "data= pd.read_csv('/content/StudentsPerformance.csv')"
      ],
      "execution_count": 2,
      "outputs": []
    },
    {
      "cell_type": "code",
      "metadata": {
        "colab": {
          "base_uri": "https://localhost:8080/"
        },
        "id": "RylS8gUVyyfy",
        "outputId": "003c544b-ca02-40f6-f2d8-592dc872cbec"
      },
      "source": [
        "print(data)"
      ],
      "execution_count": 3,
      "outputs": [
        {
          "output_type": "stream",
          "name": "stdout",
          "text": [
            "     gender race/ethnicity  ... reading score writing score\n",
            "0    female        group B  ...            72            74\n",
            "1    female        group C  ...            90            88\n",
            "2    female        group B  ...            95            93\n",
            "3      male        group A  ...            57            44\n",
            "4      male        group C  ...            78            75\n",
            "..      ...            ...  ...           ...           ...\n",
            "995  female        group E  ...            99            95\n",
            "996    male        group C  ...            55            55\n",
            "997  female        group C  ...            71            65\n",
            "998  female        group D  ...            78            77\n",
            "999  female        group D  ...            86            86\n",
            "\n",
            "[1000 rows x 8 columns]\n"
          ]
        }
      ]
    },
    {
      "cell_type": "markdown",
      "metadata": {
        "id": "DUda42IG-gxX"
      },
      "source": [
        "cleanig data..."
      ]
    },
    {
      "cell_type": "code",
      "metadata": {
        "colab": {
          "base_uri": "https://localhost:8080/"
        },
        "id": "D_1Is8s1zjff",
        "outputId": "7802a55c-13ab-4e68-9de5-fbbd11cc5821"
      },
      "source": [
        "print(data.isnull().sum())"
      ],
      "execution_count": 5,
      "outputs": [
        {
          "output_type": "stream",
          "name": "stdout",
          "text": [
            "gender                         0\n",
            "race/ethnicity                 0\n",
            "parental level of education    0\n",
            "lunch                          0\n",
            "test preparation course        0\n",
            "math score                     0\n",
            "reading score                  0\n",
            "writing score                  0\n",
            "dtype: int64\n"
          ]
        }
      ]
    },
    {
      "cell_type": "code",
      "metadata": {
        "id": "26g5xImU0SKe"
      },
      "source": [
        "data= data.drop(['test preparation course','race/ethnicity'],axis=1)"
      ],
      "execution_count": 11,
      "outputs": []
    },
    {
      "cell_type": "markdown",
      "metadata": {
        "id": "qOGjnAnF_FA9"
      },
      "source": [
        "Encoding the **object** datatype to **numerical** type..."
      ]
    },
    {
      "cell_type": "code",
      "metadata": {
        "colab": {
          "base_uri": "https://localhost:8080/"
        },
        "id": "TET9sGTp3H_w",
        "outputId": "a301fad7-2b53-49c9-e6cb-29e6d6c3d200"
      },
      "source": [
        "object_data= data.select_dtypes(include=[object])\n",
        "le=preprocessing.LabelEncoder()\n",
        "for i in range(object_data.shape[1]):\n",
        "  object_data.iloc[:,i]=le.fit_transform( object_data.iloc[:,i])\n"
      ],
      "execution_count": 17,
      "outputs": [
        {
          "output_type": "stream",
          "name": "stderr",
          "text": [
            "/usr/local/lib/python3.7/dist-packages/pandas/core/indexing.py:1781: SettingWithCopyWarning: \n",
            "A value is trying to be set on a copy of a slice from a DataFrame.\n",
            "Try using .loc[row_indexer,col_indexer] = value instead\n",
            "\n",
            "See the caveats in the documentation: https://pandas.pydata.org/pandas-docs/stable/user_guide/indexing.html#returning-a-view-versus-a-copy\n",
            "  self.obj[item_labels[indexer[info_axis]]] = value\n",
            "/usr/local/lib/python3.7/dist-packages/pandas/core/indexing.py:1743: SettingWithCopyWarning: \n",
            "A value is trying to be set on a copy of a slice from a DataFrame.\n",
            "Try using .loc[row_indexer,col_indexer] = value instead\n",
            "\n",
            "See the caveats in the documentation: https://pandas.pydata.org/pandas-docs/stable/user_guide/indexing.html#returning-a-view-versus-a-copy\n",
            "  isetter(ilocs[0], value)\n"
          ]
        }
      ]
    },
    {
      "cell_type": "code",
      "metadata": {
        "id": "GGnf_fPl6Ajc"
      },
      "source": [
        "num_data=data.select_dtypes(exclude=[object])\n",
        "data=pd.concat([object_data,num_data],axis=1)"
      ],
      "execution_count": 21,
      "outputs": []
    },
    {
      "cell_type": "markdown",
      "metadata": {
        "id": "h9bNIVYP-ynu"
      },
      "source": [
        "Explore the relations using **seaborn**"
      ]
    },
    {
      "cell_type": "code",
      "metadata": {
        "colab": {
          "base_uri": "https://localhost:8080/",
          "height": 393
        },
        "id": "vnL3vYDI12UG",
        "outputId": "35aa56ce-9963-46a9-facd-1d337554fba1"
      },
      "source": [
        "c=data.corr()\n",
        "sns.heatmap(c,annot=True)\n",
        "plt.show()"
      ],
      "execution_count": 22,
      "outputs": [
        {
          "output_type": "display_data",
          "data": {
            "image/png": "[encoded data removed]",
            "text/plain": [
              "<Figure size 432x288 with 2 Axes>"
            ]
          },
          "metadata": {
            "needs_background": "light"
          }
        }
      ]
    },
    {
      "cell_type": "markdown",
      "metadata": {
        "id": "Pk0HW9G4AM6X"
      },
      "source": [
        "**Results:**\n",
        "\n",
        "1. the results show a strong relation between the reading score and writing score.  \n",
        "2. there is a noticed negative relation between gender and the writing score.\n",
        "3. there is a strong relation between reading - writing score and math score .\n",
        "4. there is a surprising relation between the lunch and math score which is not expected.\n",
        "5. parental level of education is almost has no effection .\n",
        "\n"
      ]
    }
  ]
}